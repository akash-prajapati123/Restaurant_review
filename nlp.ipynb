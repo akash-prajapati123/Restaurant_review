{
 "cells": [
  {
   "cell_type": "code",
   "execution_count": 0,
   "metadata": {
    "application/vnd.databricks.v1+cell": {
     "cellMetadata": {
      "byteLimit": 2048000,
      "rowLimit": 10000
     },
     "inputWidgets": {},
     "nuid": "2d2cb9ce-7e86-4aa8-9d7b-fe1d877c3f13",
     "showTitle": false,
     "title": ""
    }
   },
   "outputs": [
    {
     "output_type": "stream",
     "name": "stderr",
     "output_type": "stream",
     "text": [
      "[nltk_data] Downloading package stopwords to /root/nltk_data...\n[nltk_data]   Package stopwords is already up-to-date!\n[nltk_data] Downloading package vader_lexicon to /root/nltk_data...\n[nltk_data]   Package vader_lexicon is already up-to-date!\n"
     ]
    },
    {
     "output_type": "stream",
     "name": "stdout",
     "output_type": "stream",
     "text": [
      "Fitting 5 folds for each of 72 candidates, totalling 360 fits\n[CV] END criterion=gini, max_depth=None, max_features=sqrt, n_estimators=100; total time=   0.5s\n[CV] END criterion=gini, max_depth=None, max_features=sqrt, n_estimators=100; total time=   0.6s\n[CV] END criterion=gini, max_depth=None, max_features=sqrt, n_estimators=200; total time=   1.2s\n[CV] END criterion=gini, max_depth=None, max_features=log2, n_estimators=50; total time=   0.2s\n[CV] END criterion=gini, max_depth=None, max_features=log2, n_estimators=100; total time=   0.5s\n[CV] END criterion=gini, max_depth=None, max_features=log2, n_estimators=100; total time=   0.5s\n[CV] END criterion=entropy, max_depth=10, max_features=auto, n_estimators=50; total time=   0.0s\n[CV] END criterion=entropy, max_depth=10, max_features=auto, n_estimators=50; total time=   0.0s\n[CV] END criterion=entropy, max_depth=10, max_features=auto, n_estimators=50; total time=   0.0s\n[CV] END criterion=entropy, max_depth=10, max_features=auto, n_estimators=50; total time=   0.0s\n[CV] END criterion=entropy, max_depth=10, max_features=auto, n_estimators=50; total time=   0.0s\n[CV] END criterion=entropy, max_depth=10, max_features=auto, n_estimators=100; total time=   0.0s\n[CV] END criterion=entropy, max_depth=10, max_features=auto, n_estimators=100; total time=   0.0s\n[CV] END criterion=entropy, max_depth=10, max_features=auto, n_estimators=100; total time=   0.0s\n[CV] END criterion=entropy, max_depth=10, max_features=auto, n_estimators=100; total time=   0.0s\n[CV] END criterion=entropy, max_depth=10, max_features=auto, n_estimators=100; total time=   0.0s\n[CV] END criterion=entropy, max_depth=10, max_features=auto, n_estimators=200; total time=   0.0s\n[CV] END criterion=entropy, max_depth=10, max_features=auto, n_estimators=200; total time=   0.0s\n[CV] END criterion=entropy, max_depth=10, max_features=auto, n_estimators=200; total time=   0.0s\n[CV] END criterion=entropy, max_depth=10, max_features=auto, n_estimators=200; total time=   0.0s\n[CV] END criterion=entropy, max_depth=10, max_features=auto, n_estimators=200; total time=   0.0s\n[CV] END criterion=entropy, max_depth=10, max_features=sqrt, n_estimators=50; total time=   0.1s\n[CV] END criterion=entropy, max_depth=10, max_features=sqrt, n_estimators=50; total time=   0.1s\n[CV] END criterion=entropy, max_depth=10, max_features=sqrt, n_estimators=50; total time=   0.1s\n[CV] END criterion=entropy, max_depth=10, max_features=sqrt, n_estimators=50; total time=   0.1s\n[CV] END criterion=entropy, max_depth=10, max_features=sqrt, n_estimators=50; total time=   0.1s\n[CV] END criterion=entropy, max_depth=10, max_features=sqrt, n_estimators=100; total time=   0.2s\n[CV] END criterion=entropy, max_depth=10, max_features=sqrt, n_estimators=100; total time=   0.2s\n[CV] END criterion=entropy, max_depth=10, max_features=sqrt, n_estimators=200; total time=   0.5s\n[CV] END criterion=entropy, max_depth=10, max_features=sqrt, n_estimators=200; total time=   0.4s\n[CV] END criterion=entropy, max_depth=10, max_features=log2, n_estimators=200; total time=   0.4s\n[CV] END criterion=entropy, max_depth=10, max_features=log2, n_estimators=200; total time=   0.4s\n[CV] END criterion=entropy, max_depth=50, max_features=sqrt, n_estimators=100; total time=   0.4s\n[CV] END criterion=entropy, max_depth=50, max_features=sqrt, n_estimators=100; total time=   0.4s\n[CV] END criterion=entropy, max_depth=50, max_features=sqrt, n_estimators=200; total time=   0.9s\n[CV] END criterion=entropy, max_depth=50, max_features=log2, n_estimators=50; total time=   0.1s\n[CV] END criterion=entropy, max_depth=50, max_features=log2, n_estimators=100; total time=   0.3s\n[CV] END criterion=entropy, max_depth=50, max_features=log2, n_estimators=100; total time=   0.3s\n[CV] END criterion=entropy, max_depth=100, max_features=auto, n_estimators=50; total time=   0.0s\n[CV] END criterion=entropy, max_depth=100, max_features=auto, n_estimators=50; total time=   0.0s\n[CV] END criterion=entropy, max_depth=100, max_features=auto, n_estimators=50; total time=   0.0s\n[CV] END criterion=entropy, max_depth=100, max_features=auto, n_estimators=50; total time=   0.0s\n[CV] END criterion=entropy, max_depth=100, max_features=auto, n_estimators=50; total time=   0.0s\n[CV] END criterion=entropy, max_depth=100, max_features=auto, n_estimators=100; total time=   0.0s\n[CV] END criterion=entropy, max_depth=100, max_features=auto, n_estimators=100; total time=   0.0s\n[CV] END criterion=entropy, max_depth=100, max_features=auto, n_estimators=100; total time=   0.0s\n[CV] END criterion=entropy, max_depth=100, max_features=auto, n_estimators=100; total time=   0.0s\n[CV] END criterion=entropy, max_depth=100, max_features=auto, n_estimators=100; total time=   0.0s\n[CV] END criterion=entropy, max_depth=100, max_features=auto, n_estimators=200; total time=   0.0s\n[CV] END criterion=entropy, max_depth=100, max_features=auto, n_estimators=200; total time=   0.0s\n[CV] END criterion=entropy, max_depth=100, max_features=auto, n_estimators=200; total time=   0.0s\n[CV] END criterion=entropy, max_depth=100, max_features=auto, n_estimators=200; total time=   0.0s\n[CV] END criterion=entropy, max_depth=100, max_features=auto, n_estimators=200; total time=   0.0s\n[CV] END criterion=entropy, max_depth=100, max_features=sqrt, n_estimators=50; total time=   0.3s\n[CV] END criterion=entropy, max_depth=100, max_features=sqrt, n_estimators=50; total time=   0.3s\n[CV] END criterion=entropy, max_depth=100, max_features=sqrt, n_estimators=50; total time=   0.3s\n[CV] END criterion=entropy, max_depth=100, max_features=sqrt, n_estimators=100; total time=   0.5s\n[CV] END criterion=entropy, max_depth=100, max_features=sqrt, n_estimators=100; total time=   0.5s\n[CV] END criterion=entropy, max_depth=100, max_features=sqrt, n_estimators=200; total time=   1.0s\n[CV] END criterion=entropy, max_depth=100, max_features=sqrt, n_estimators=200; total time=   1.1s\n[CV] END criterion=entropy, max_depth=None, max_features=auto, n_estimators=50; total time=   0.0s\n[CV] END criterion=entropy, max_depth=None, max_features=auto, n_estimators=50; total time=   0.0s\n[CV] END criterion=entropy, max_depth=None, max_features=auto, n_estimators=50; total time=   0.0s\n[CV] END criterion=entropy, max_depth=None, max_features=auto, n_estimators=50; total time=   0.0s\n[CV] END criterion=entropy, max_depth=None, max_features=auto, n_estimators=100; total time=   0.0s\n[CV] END criterion=entropy, max_depth=None, max_features=auto, n_estimators=100; total time=   0.0s\n[CV] END criterion=entropy, max_depth=None, max_features=auto, n_estimators=100; total time=   0.0s\n[CV] END criterion=entropy, max_depth=None, max_features=auto, n_estimators=100; total time=   0.0s\n[CV] END criterion=entropy, max_depth=None, max_features=auto, n_estimators=100; total time=   0.0s\n[CV] END criterion=entropy, max_depth=None, max_features=auto, n_estimators=200; total time=   0.0s\n[CV] END criterion=entropy, max_depth=None, max_features=auto, n_estimators=200; total time=   0.0s\n[CV] END criterion=entropy, max_depth=None, max_features=auto, n_estimators=200; total time=   0.0s\n[CV] END criterion=entropy, max_depth=None, max_features=auto, n_estimators=200; total time=   0.0s\n[CV] END criterion=entropy, max_depth=None, max_features=auto, n_estimators=200; total time=   0.0s\n[CV] END criterion=entropy, max_depth=None, max_features=sqrt, n_estimators=50; total time=   0.3s\n[CV] END criterion=entropy, max_depth=None, max_features=sqrt, n_estimators=50; total time=   0.3s\n[CV] END criterion=entropy, max_depth=None, max_features=sqrt, n_estimators=100; total time=   0.6s\n[CV] END criterion=entropy, max_depth=None, max_features=sqrt, n_estimators=100; total time=   0.6s\n[CV] END criterion=entropy, max_depth=None, max_features=sqrt, n_estimators=200; total time=   1.2s\n[CV] END criterion=entropy, max_depth=None, max_features=log2, n_estimators=50; total time=   0.2s\n[CV] END criterion=entropy, max_depth=None, max_features=log2, n_estimators=100; total time=   0.4s\n[CV] END criterion=entropy, max_depth=None, max_features=log2, n_estimators=100; total time=   0.4s\n[CV] END criterion=entropy, max_depth=None, max_features=log2, n_estimators=200; total time=   0.8s\n[CV] END criterion=gini, max_depth=10, max_features=sqrt, n_estimators=100; total time=   0.2s\n[CV] END criterion=gini, max_depth=10, max_features=sqrt, n_estimators=200; total time=   0.4s\n[CV] END criterion=gini, max_depth=10, max_features=sqrt, n_estimators=200; total time=   0.5s\n[CV] END criterion=gini, max_depth=10, max_features=sqrt, n_estimators=200; total time=   0.5s\n[CV] END criterion=gini, max_depth=50, max_features=sqrt, n_estimators=100; total time=   0.5s\n[CV] END criterion=gini, max_depth=50, max_features=sqrt, n_estimators=100; total time=   0.5s\n[CV] END criterion=gini, max_depth=50, max_features=sqrt, n_estimators=200; total time=   0.9s\n[CV] END criterion=gini, max_depth=50, max_features=sqrt, n_estimators=200; total time=   0.9s\n[CV] END criterion=gini, max_depth=100, max_features=auto, n_estimators=50; total time=   0.0s\n[CV] END criterion=gini, max_depth=100, max_features=auto, n_estimators=50; total time=   0.0s\n[CV] END criterion=gini, max_depth=100, max_features=auto, n_estimators=50; total time=   0.0s\n[CV] END criterion=gini, max_depth=100, max_features=auto, n_estimators=100; total time=   0.0s\n[CV] END criterion=gini, max_depth=100, max_features=auto, n_estimators=100; total time=   0.0s\n[CV] END criterion=gini, max_depth=100, max_features=auto, n_estimators=100; total time=   0.0s\n[CV] END criterion=gini, max_depth=100, max_features=auto, n_estimators=100; total time=   0.0s\n[CV] END criterion=gini, max_depth=100, max_features=auto, n_estimators=100; total time=   0.0s\n[CV] END criterion=gini, max_depth=100, max_features=auto, n_estimators=200; total time=   0.0s\n[CV] END criterion=gini, max_depth=100, max_features=auto, n_estimators=200; total time=   0.0s\n[CV] END criterion=gini, max_depth=100, max_features=auto, n_estimators=200; total time=   0.0s\n[CV] END criterion=gini, max_depth=100, max_features=auto, n_estimators=200; total time=   0.0s\n[CV] END criterion=gini, max_depth=100, max_features=auto, n_estimators=200; total time=   0.0s\n[CV] END criterion=gini, max_depth=100, max_features=sqrt, n_estimators=50; total time=   0.3s\n[CV] END criterion=gini, max_depth=100, max_features=sqrt, n_estimators=50; total time=   0.3s\n[CV] END criterion=gini, max_depth=100, max_features=sqrt, n_estimators=50; total time=   0.3s\n[CV] END criterion=gini, max_depth=100, max_features=sqrt, n_estimators=200; total time=   1.0s\n[CV] END criterion=gini, max_depth=100, max_features=sqrt, n_estimators=200; total time=   1.0s\n[CV] END criterion=gini, max_depth=100, max_features=sqrt, n_estimators=200; total time=   1.1s\n[CV] END criterion=gini, max_depth=100, max_features=sqrt, n_estimators=200; total time=   1.1s\n[CV] END criterion=gini, max_depth=None, max_features=sqrt, n_estimators=200; total time=   1.2s\n[CV] END criterion=gini, max_depth=None, max_features=sqrt, n_estimators=200; total time=   1.3s\n[CV] END criterion=gini, max_depth=None, max_features=log2, n_estimators=200; total time=   0.9s\n[CV] END criterion=gini, max_depth=None, max_features=log2, n_estimators=200; total time=   0.9s\n[CV] END criterion=entropy, max_depth=10, max_features=sqrt, n_estimators=100; total time=   0.3s\n[CV] END criterion=entropy, max_depth=10, max_features=sqrt, n_estimators=200; total time=   0.5s\n[CV] END criterion=entropy, max_depth=10, max_features=log2, n_estimators=100; total time=   0.2s\n[CV] END criterion=entropy, max_depth=10, max_features=log2, n_estimators=100; total time=   0.2s\n[CV] END criterion=entropy, max_depth=10, max_features=log2, n_estimators=200; total time=   0.4s\n[CV] END criterion=entropy, max_depth=10, max_features=log2, n_estimators=200; total time=   0.4s\n[CV] END criterion=entropy, max_depth=50, max_features=sqrt, n_estimators=100; total time=   0.4s\n[CV] END criterion=entropy, max_depth=50, max_features=sqrt, n_estimators=100; total time=   0.5s\n[CV] END criterion=entropy, max_depth=50, max_features=log2, n_estimators=50; total time=   0.1s\n[CV] END criterion=entropy, max_depth=50, max_features=log2, n_estimators=50; total time=   0.1s\n[CV] END criterion=entropy, max_depth=50, max_features=log2, n_estimators=50; total time=   0.1s\n[CV] END criterion=entropy, max_depth=50, max_features=log2, n_estimators=50; total time=   0.1s\n[CV] END criterion=entropy, max_depth=50, max_features=log2, n_estimators=100; total time=   0.3s\n[CV] END criterion=entropy, max_depth=50, max_features=log2, n_estimators=100; total time=   0.3s\n[CV] END criterion=entropy, max_depth=50, max_features=log2, n_estimators=200; total time=   0.6s\n[CV] END criterion=entropy, max_depth=50, max_features=log2, n_estimators=200; total time=   0.6s\n[CV] END criterion=entropy, max_depth=100, max_features=sqrt, n_estimators=100; total time=   0.5s\n[CV] END criterion=entropy, max_depth=100, max_features=sqrt, n_estimators=100; total time=   0.5s\n[CV] END criterion=entropy, max_depth=100, max_features=log2, n_estimators=50; total time=   0.2s\n[CV] END criterion=entropy, max_depth=100, max_features=log2, n_estimators=50; total time=   0.2s\n[CV] END criterion=entropy, max_depth=100, max_features=log2, n_estimators=50; total time=   0.2s\n[CV] END criterion=entropy, max_depth=100, max_features=log2, n_estimators=50; total time=   0.2s\n[CV] END criterion=entropy, max_depth=100, max_features=log2, n_estimators=50; total time=   0.2s\n[CV] END criterion=entropy, max_depth=100, max_features=log2, n_estimators=100; total time=   0.3s\n[CV] END criterion=entropy, max_depth=100, max_features=log2, n_estimators=100; total time=   0.3s\n[CV] END criterion=entropy, max_depth=100, max_features=log2, n_estimators=100; total time=   0.4s\n[CV] END criterion=entropy, max_depth=100, max_features=log2, n_estimators=200; total time=   0.7s\n[CV] END criterion=entropy, max_depth=None, max_features=auto, n_estimators=50; total time=   0.0s\n[CV] END criterion=entropy, max_depth=None, max_features=sqrt, n_estimators=50; total time=   0.3s\n[CV] END criterion=entropy, max_depth=None, max_features=sqrt, n_estimators=50; total time=   0.3s\n[CV] END criterion=entropy, max_depth=None, max_features=sqrt, n_estimators=200; total time=   1.1s\n[CV] END criterion=entropy, max_depth=None, max_features=sqrt, n_estimators=200; total time=   1.1s\n[CV] END criterion=entropy, max_depth=None, max_features=log2, n_estimators=100; total time=   0.4s\n[CV] END criterion=entropy, max_depth=None, max_features=log2, n_estimators=200; total time=   0.8s\n[CV] END criterion=gini, max_depth=10, max_features=auto, n_estimators=50; total time=   0.0s\n[CV] END criterion=gini, max_depth=10, max_features=auto, n_estimators=100; total time=   0.0s\n[CV] END criterion=gini, max_depth=10, max_features=auto, n_estimators=200; total time=   0.0s\n[CV] END criterion=gini, max_depth=10, max_features=auto, n_estimators=200; total time=   0.0s\n[CV] END criterion=gini, max_depth=10, max_features=sqrt, n_estimators=50; total time=   0.1s\n[CV] END criterion=gini, max_depth=10, max_features=sqrt, n_estimators=50; total time=   0.2s\n[CV] END criterion=gini, max_depth=10, max_features=sqrt, n_estimators=200; total time=   0.6s\n[CV] END criterion=gini, max_depth=10, max_features=sqrt, n_estimators=200; total time=   0.6s\n[CV] END criterion=gini, max_depth=10, max_features=log2, n_estimators=50; total time=   0.1s\n[CV] END criterion=gini, max_depth=10, max_features=log2, n_estimators=50; total time=   0.1s\n[CV] END criterion=gini, max_depth=50, max_features=auto, n_estimators=50; total time=   0.0s\n[CV] END criterion=gini, max_depth=50, max_features=auto, n_estimators=50; total time=   0.0s\n[CV] END criterion=gini, max_depth=50, max_features=auto, n_estimators=100; total time=   0.0s\n[CV] END criterion=gini, max_depth=50, max_features=auto, n_estimators=100; total time=   0.0s\n[CV] END criterion=gini, max_depth=50, max_features=auto, n_estimators=100; total time=   0.0s\n[CV] END criterion=gini, max_depth=50, max_features=auto, n_estimators=100; total time=   0.0s\n[CV] END criterion=gini, max_depth=50, max_features=auto, n_estimators=100; total time=   0.0s\n[CV] END criterion=gini, max_depth=50, max_features=auto, n_estimators=200; total time=   0.0s\n[CV] END criterion=gini, max_depth=50, max_features=log2, n_estimators=50; total time=   0.1s\n[CV] END criterion=gini, max_depth=50, max_features=log2, n_estimators=50; total time=   0.1s\n[CV] END criterion=gini, max_depth=50, max_features=log2, n_estimators=50; total time=   0.2s\n[CV] END criterion=gini, max_depth=50, max_features=log2, n_estimators=50; total time=   0.1s\n[CV] END criterion=gini, max_depth=50, max_features=log2, n_estimators=100; total time=   0.3s\n[CV] END criterion=gini, max_depth=50, max_features=log2, n_estimators=200; total time=   0.6s\n[CV] END criterion=gini, max_depth=50, max_features=log2, n_estimators=200; total time=   0.6s\n[CV] END criterion=gini, max_depth=50, max_features=log2, n_estimators=200; total time=   0.6s\n[CV] END criterion=gini, max_depth=100, max_features=sqrt, n_estimators=100; total time=   0.6s\n[CV] END criterion=gini, max_depth=100, max_features=sqrt, n_estimators=100; total time=   0.5s\n[CV] END criterion=gini, max_depth=100, max_features=sqrt, n_estimators=100; total time=   0.5s\n[CV] END criterion=gini, max_depth=100, max_features=sqrt, n_estimators=200; total time=   1.1s\n[CV] END criterion=gini, max_depth=100, max_features=log2, n_estimators=200; total time=   0.7s\n[CV] END criterion=gini, max_depth=None, max_features=auto, n_estimators=50; total time=   0.0s\n[CV] END criterion=gini, max_depth=None, max_features=auto, n_estimators=50; total time=   0.0s\n[CV] END criterion=gini, max_depth=None, max_features=auto, n_estimators=50; total time=   0.0s\n[CV] END criterion=gini, max_depth=None, max_features=auto, n_estimators=50; total time=   0.0s\n[CV] END criterion=gini, max_depth=None, max_features=auto, n_estimators=100; total time=   0.0s\n[CV] END criterion=gini, max_depth=None, max_features=auto, n_estimators=200; total time=   0.0s\n[CV] END criterion=gini, max_depth=None, max_features=sqrt, n_estimators=50; total time=   0.3s\n[CV] END criterion=gini, max_depth=None, max_features=sqrt, n_estimators=100; total time=   0.6s\n[CV] END criterion=gini, max_depth=None, max_features=sqrt, n_estimators=200; total time=   1.2s\n[CV] END criterion=gini, max_depth=None, max_features=sqrt, n_estimators=200; total time=   1.2s\n[CV] END criterion=gini, max_depth=None, max_features=log2, n_estimators=100; total time=   0.6s\n[CV] END criterion=gini, max_depth=None, max_features=log2, n_estimators=200; total time=   0.9s\n[CV] END criterion=entropy, max_depth=10, max_features=sqrt, n_estimators=100; total time=   0.3s\n[CV] END criterion=entropy, max_depth=10, max_features=sqrt, n_estimators=100; total time=   0.3s\n[CV] END criterion=entropy, max_depth=10, max_features=sqrt, n_estimators=200; total time=   0.5s\n[CV] END criterion=entropy, max_depth=10, max_features=sqrt, n_estimators=200; total time=   0.5s\n[CV] END criterion=entropy, max_depth=10, max_features=log2, n_estimators=200; total time=   0.4s\n[CV] END criterion=entropy, max_depth=50, max_features=auto, n_estimators=50; total time=   0.0s\n[CV] END criterion=entropy, max_depth=50, max_features=sqrt, n_estimators=50; total time=   0.2s\n[CV] END criterion=entropy, max_depth=50, max_features=sqrt, n_estimators=50; total time=   0.2s\n[CV] END criterion=entropy, max_depth=50, max_features=sqrt, n_estimators=200; total time=   0.9s\n[CV] END criterion=entropy, max_depth=50, max_features=sqrt, n_estimators=200; total time=   0.9s\n[CV] END criterion=entropy, max_depth=50, max_features=log2, n_estimators=100; total time=   0.3s\n[CV] END criterion=entropy, max_depth=50, max_features=log2, n_estimators=200; total time=   0.6s\n[CV] END criterion=entropy, max_depth=100, max_features=sqrt, n_estimators=50; total time=   0.3s\n[CV] END criterion=entropy, max_depth=100, max_features=sqrt, n_estimators=50; total time=   0.3s\n[CV] END criterion=entropy, max_depth=100, max_features=sqrt, n_estimators=100; total time=   0.5s\n[CV] END criterion=entropy, max_depth=100, max_features=sqrt, n_estimators=200; total time=   1.1s\n[CV] END criterion=entropy, max_depth=100, max_features=log2, n_estimators=100; total time=   0.4s\n[CV] END criterion=entropy, max_depth=100, max_features=log2, n_estimators=100; total time=   0.4s\n[CV] END criterion=entropy, max_depth=100, max_features=log2, n_estimators=200; total time=   0.7s\n[CV] END criterion=entropy, max_depth=100, max_features=log2, n_estimators=200; total time=   0.7s\n[CV] END criterion=entropy, max_depth=None, max_features=sqrt, n_estimators=100; total time=   0.6s\n[CV] END criterion=entropy, max_depth=None, max_features=sqrt, n_estimators=100; total time=   0.6s\n[CV] END criterion=entropy, max_depth=None, max_features=log2, n_estimators=50; total time=   0.2s\n[CV] END criterion=entropy, max_depth=None, max_features=log2, n_estimators=50; total time=   0.2s\n[CV] END criterion=entropy, max_depth=None, max_features=log2, n_estimators=50; total time=   0.2s\n[CV] END criterion=entropy, max_depth=None, max_features=log2, n_estimators=50; total time=   0.2s\n[CV] END criterion=entropy, max_depth=None, max_features=log2, n_estimators=100; total time=   0.4s\n[CV] END criterion=entropy, max_depth=None, max_features=log2, n_estimators=100; total time=   0.4s\n[CV] END criterion=entropy, max_depth=None, max_features=log2, n_estimators=200; total time=   0.8s\n[CV] END criterion=gini, max_depth=10, max_features=auto, n_estimators=50; total time=   0.0s\n[CV] END criterion=gini, max_depth=10, max_features=auto, n_estimators=100; total time=   0.0s\n[CV] END criterion=gini, max_depth=10, max_features=auto, n_estimators=200; total time=   0.0s\n[CV] END criterion=gini, max_depth=10, max_features=auto, n_estimators=200; total time=   0.0s\n[CV] END criterion=gini, max_depth=10, max_features=sqrt, n_estimators=100; total time=   0.2s\n[CV] END criterion=gini, max_depth=10, max_features=sqrt, n_estimators=100; total time=   0.2s\n[CV] END criterion=gini, max_depth=10, max_features=log2, n_estimators=50; total time=   0.1s\n[CV] END criterion=gini, max_depth=10, max_features=log2, n_estimators=50; total time=   0.1s\n[CV] END criterion=gini, max_depth=10, max_features=log2, n_estimators=50; total time=   0.1s\n[CV] END criterion=gini, max_depth=10, max_features=log2, n_estimators=100; total time=   0.2s\n[CV] END criterion=gini, max_depth=10, max_features=log2, n_estimators=200; total time=   0.4s\n[CV] END criterion=gini, max_depth=10, max_features=log2, n_estimators=200; total time=   0.4s\n[CV] END criterion=gini, max_depth=10, max_features=log2, n_estimators=200; total time=   0.4s\n[CV] END criterion=gini, max_depth=10, max_features=log2, n_estimators=200; total time=   0.4s\n[CV] END criterion=gini, max_depth=50, max_features=sqrt, n_estimators=200; total time=   1.0s\n[CV] END criterion=gini, max_depth=50, max_features=sqrt, n_estimators=200; total time=   1.0s\n[CV] END criterion=gini, max_depth=50, max_features=sqrt, n_estimators=200; total time=   0.9s\n[CV] END criterion=gini, max_depth=50, max_features=log2, n_estimators=50; total time=   0.1s\n[CV] END criterion=gini, max_depth=100, max_features=sqrt, n_estimators=100; total time=   0.5s\n[CV] END criterion=gini, max_depth=100, max_features=sqrt, n_estimators=100; total time=   0.5s\n[CV] END criterion=gini, max_depth=100, max_features=sqrt, n_estimators=100; total time=   0.6s\n[CV] END criterion=gini, max_depth=100, max_features=sqrt, n_estimators=200; total time=   1.1s\n[CV] END criterion=gini, max_depth=100, max_features=log2, n_estimators=200; total time=   0.8s\n[CV] END criterion=gini, max_depth=None, max_features=auto, n_estimators=50; total time=   0.0s\n[CV] END criterion=gini, max_depth=None, max_features=auto, n_estimators=50; total time=   0.0s\n[CV] END criterion=gini, max_depth=None, max_features=auto, n_estimators=50; total time=   0.0s\n[CV] END criterion=gini, max_depth=None, max_features=auto, n_estimators=50; total time=   0.0s\n[CV] END criterion=gini, max_depth=None, max_features=auto, n_estimators=50; total time=   0.0s\n[CV] END criterion=gini, max_depth=None, max_features=auto, n_estimators=100; total time=   0.0s\n[CV] END criterion=gini, max_depth=None, max_features=auto, n_estimators=100; total time=   0.0s\n[CV] END criterion=entropy, max_depth=10, max_features=log2, n_estimators=50; total time=   0.1s\n[CV] END criterion=entropy, max_depth=10, max_features=log2, n_estimators=100; total time=   0.2s\n[CV] END criterion=entropy, max_depth=10, max_features=log2, n_estimators=100; total time=   0.2s\n[CV] END criterion=entropy, max_depth=10, max_features=log2, n_estimators=100; total time=   0.2s\n[CV] END criterion=entropy, max_depth=50, max_features=auto, n_estimators=50; total time=   0.0s\n[CV] END criterion=entropy, max_depth=50, max_features=auto, n_estimators=50; total time=   0.0s\n[CV] END criterion=entropy, max_depth=50, max_features=auto, n_estimators=50; total time=   0.0s\n[CV] END criterion=entropy, max_depth=50, max_features=auto, n_estimators=50; total time=   0.0s\n[CV] END criterion=entropy, max_depth=50, max_features=auto, n_estimators=100; total time=   0.0s\n[CV] END criterion=entropy, max_depth=50, max_features=auto, n_estimators=100; total time=   0.0s\n[CV] END criterion=entropy, max_depth=50, max_features=auto, n_estimators=100; total time=   0.0s\n[CV] END criterion=entropy, max_depth=50, max_features=auto, n_estimators=100; total time=   0.0s\n[CV] END criterion=entropy, max_depth=50, max_features=auto, n_estimators=100; total time=   0.0s\n[CV] END criterion=entropy, max_depth=50, max_features=auto, n_estimators=200; total time=   0.0s\n[CV] END criterion=entropy, max_depth=50, max_features=auto, n_estimators=200; total time=   0.0s\n[CV] END criterion=entropy, max_depth=50, max_features=auto, n_estimators=200; total time=   0.0s\n[CV] END criterion=entropy, max_depth=50, max_features=auto, n_estimators=200; total time=   0.0s\n[CV] END criterion=entropy, max_depth=50, max_features=auto, n_estimators=200; total time=   0.0s\n[CV] END criterion=entropy, max_depth=50, max_features=sqrt, n_estimators=50; total time=   0.2s\n[CV] END criterion=entropy, max_depth=50, max_features=sqrt, n_estimators=50; total time=   0.2s\n[CV] END criterion=entropy, max_depth=50, max_features=sqrt, n_estimators=50; total time=   0.2s\n[CV] END criterion=entropy, max_depth=50, max_features=sqrt, n_estimators=100; total time=   0.4s\n[CV] END criterion=entropy, max_depth=50, max_features=sqrt, n_estimators=200; total time=   0.8s\n[CV] END criterion=entropy, max_depth=50, max_features=sqrt, n_estimators=200; total time=   0.8s\n[CV] END criterion=entropy, max_depth=50, max_features=log2, n_estimators=200; total time=   0.6s\n[CV] END criterion=entropy, max_depth=50, max_features=log2, n_estimators=200; total time=   0.6s\n[CV] END criterion=entropy, max_depth=100, max_features=sqrt, n_estimators=200; total time=   1.1s\n[CV] END criterion=entropy, max_depth=100, max_features=sqrt, n_estimators=200; total time=   1.1s\n[CV] END criterion=entropy, max_depth=100, max_features=log2, n_estimators=200; total time=   0.7s\n[CV] END criterion=entropy, max_depth=100, max_features=log2, n_estimators=200; total time=   0.7s\n[CV] END criterion=entropy, max_depth=None, max_features=sqrt, n_estimators=50; total time=   0.3s\n[CV] END criterion=entropy, max_depth=None, max_features=sqrt, n_estimators=100; total time=   0.6s\n[CV] END criterion=entropy, max_depth=None, max_features=sqrt, n_estimators=200; total time=   1.1s\n[CV] END criterion=entropy, max_depth=None, max_features=sqrt, n_estimators=200; total time=   1.1s\n[CV] END criterion=entropy, max_depth=None, max_features=log2, n_estimators=200; total time=   0.8s\n[CV] END criterion=entropy, max_depth=None, max_features=log2, n_estimators=200; total time=   0.8s\n[CV] END criterion=gini, max_depth=10, max_features=auto, n_estimators=50; total time=   0.0s\n[CV] END criterion=gini, max_depth=10, max_features=auto, n_estimators=100; total time=   0.0s\n[CV] END criterion=gini, max_depth=10, max_features=auto, n_estimators=200; total time=   0.0s\n[CV] END criterion=gini, max_depth=10, max_features=sqrt, n_estimators=50; total time=   0.2s\n[CV] END criterion=gini, max_depth=10, max_features=sqrt, n_estimators=100; total time=   0.2s\n[CV] END criterion=gini, max_depth=10, max_features=sqrt, n_estimators=100; total time=   0.3s\n[CV] END criterion=gini, max_depth=10, max_features=log2, n_estimators=100; total time=   0.2s\n[CV] END criterion=gini, max_depth=10, max_features=log2, n_estimators=100; total time=   0.2s\n[CV] END criterion=gini, max_depth=10, max_features=log2, n_estimators=100; total time=   0.2s\n[CV] END criterion=gini, max_depth=10, max_features=log2, n_estimators=100; total time=   0.2s\n[CV] END criterion=gini, max_depth=10, max_features=log2, n_estimators=200; total time=   0.3s\n[CV] END criterion=gini, max_depth=50, max_features=auto, n_estimators=50; total time=   0.0s\n[CV] END criterion=gini, max_depth=50, max_features=auto, n_estimators=50; total time=   0.0s\n[CV] END criterion=gini, max_depth=50, max_features=auto, n_estimators=50; total time=   0.0s\n[CV] END criterion=gini, max_depth=50, max_features=sqrt, n_estimators=50; total time=   0.2s\n[CV] END criterion=gini, max_depth=50, max_features=sqrt, n_estimators=100; total time=   0.4s\n[CV] END criterion=gini, max_depth=50, max_features=sqrt, n_estimators=100; total time=   0.5s\n[CV] END criterion=gini, max_depth=50, max_features=sqrt, n_estimators=100; total time=   0.4s\n[CV] END criterion=gini, max_depth=50, max_features=log2, n_estimators=100; total time=   0.3s\n[CV] END criterion=gini, max_depth=50, max_features=log2, n_estimators=200; total time=   0.5s\n[CV] END criterion=gini, max_depth=50, max_features=log2, n_estimators=200; total time=   0.6s\n[CV] END criterion=gini, max_depth=50, max_features=log2, n_estimators=200; total time=   0.6s\n[CV] END criterion=gini, max_depth=100, max_features=sqrt, n_estimators=50; total time=   0.3s\n[CV] END criterion=gini, max_depth=100, max_features=sqrt, n_estimators=50; total time=   0.3s\n[CV] END criterion=gini, max_depth=100, max_features=sqrt, n_estimators=100; total time=   0.5s\n[CV] END criterion=gini, max_depth=100, max_features=sqrt, n_estimators=100; total time=   0.6s\n[CV] END criterion=gini, max_depth=100, max_features=log2, n_estimators=100; total time=   0.3s\n[CV] END criterion=gini, max_depth=100, max_features=log2, n_estimators=100; total time=   0.4s\n[CV] END criterion=gini, max_depth=100, max_features=log2, n_estimators=200; total time=   0.8s\n[CV] END criterion=gini, max_depth=100, max_features=log2, n_estimators=200; total time=   0.8s\n[CV] END criterion=gini, max_depth=None, max_features=sqrt, n_estimators=50; total time=   0.3s\n[CV] END criterion=gini, max_depth=None, max_features=sqrt, n_estimators=100; total time=   0.5s\n[CV] END criterion=gini, max_depth=None, max_features=sqrt, n_estimators=100; total time=   0.6s\n[CV] END criterion=gini, max_depth=None, max_features=sqrt, n_estimators=200; total time=   1.2s\n[CV] END criterion=gini, max_depth=None, max_features=log2, n_estimators=50; total time=   0.2s\n[CV] END criterion=gini, max_depth=None, max_features=log2, n_estimators=100; total time=   0.5s\n[CV] END criterion=gini, max_depth=None, max_features=log2, n_estimators=100; total time=   0.5s\n[CV] END criterion=gini, max_depth=None, max_features=log2, n_estimators=200; total time=   1.0s\n[CV] END criterion=gini, max_depth=None, max_features=log2, n_estimators=200; total time=   0.9s\n[CV] END criterion=entropy, max_depth=10, max_features=log2, n_estimators=50; total time=   0.1s\n[CV] END criterion=entropy, max_depth=10, max_features=log2, n_estimators=50; total time=   0.1s\n[CV] END criterion=entropy, max_depth=10, max_features=log2, n_estimators=50; total time=   0.1s\n[CV] END criterion=entropy, max_depth=10, max_features=log2, n_estimators=100; total time=   0.2s\n[CV] END criterion=entropy, max_depth=10, max_features=log2, n_estimators=200; total time=   0.4s\n[CV] END criterion=entropy, max_depth=10, max_features=log2, n_estimators=200; total time=   0.4s\n[CV] END criterion=entropy, max_depth=10, max_features=log2, n_estimators=200; total time=   0.4s\n[CV] END criterion=entropy, max_depth=10, max_features=log2, n_estimators=200; total time=   0.5s\n[CV] END criterion=entropy, max_depth=50, max_features=log2, n_estimators=50; total time=   0.1s\n"
     ]
    },
    {
     "output_type": "stream",
     "name": "stderr",
     "output_type": "stream",
     "text": [
      "/databricks/python/lib/python3.11/site-packages/sklearn/model_selection/_validation.py:425: FitFailedWarning: \n120 fits failed out of a total of 360.\nThe score on these train-test partitions for these parameters will be set to nan.\nIf these failures are not expected, you can try to debug them by setting error_score='raise'.\n\nBelow are more details about the failures:\n--------------------------------------------------------------------------------\n120 fits failed with the following error:\nTraceback (most recent call last):\n  File \"/databricks/python/lib/python3.11/site-packages/sklearn/model_selection/_validation.py\", line 732, in _fit_and_score\n    estimator.fit(X_train, y_train, **fit_params)\n  File \"/databricks/python/lib/python3.11/site-packages/sklearn/base.py\", line 1144, in wrapper\n    estimator._validate_params()\n  File \"/databricks/python/lib/python3.11/site-packages/sklearn/base.py\", line 637, in _validate_params\n    validate_parameter_constraints(\n  File \"/databricks/python/lib/python3.11/site-packages/sklearn/utils/_param_validation.py\", line 95, in validate_parameter_constraints\n    raise InvalidParameterError(\nsklearn.utils._param_validation.InvalidParameterError: The 'max_features' parameter of RandomForestClassifier must be an int in the range [1, inf), a float in the range (0.0, 1.0], a str among {'sqrt', 'log2'} or None. Got 'auto' instead.\n\n  warnings.warn(some_fits_failed_message, FitFailedWarning)\n/databricks/python/lib/python3.11/site-packages/sklearn/model_selection/_search.py:976: UserWarning: One or more of the test scores are non-finite: [    nan     nan     nan 0.7225  0.73125 0.7375  0.6875  0.71625 0.74875\n     nan     nan     nan 0.73    0.74375 0.74875 0.75875 0.74    0.76375\n     nan     nan     nan 0.74875 0.75125 0.75375 0.74125 0.74875 0.7625\n     nan     nan     nan 0.74625 0.7575  0.75    0.7425  0.7525  0.7575\n     nan     nan     nan 0.74375 0.745   0.725   0.69625 0.72    0.75\n     nan     nan     nan 0.74375 0.7425  0.75    0.74625 0.75375 0.76\n     nan     nan     nan 0.74125 0.7425  0.74875 0.75    0.7525  0.74625\n     nan     nan     nan 0.74625 0.74    0.74625 0.75875 0.75375 0.75375]\n  warnings.warn(\n"
     ]
    },
    {
     "output_type": "display_data",
     "data": {
      "application/vnd.jupyter.widget-view+json": {
       "model_id": "ef3a8daf6b0b44f29a5693d78dc9a1c1",
       "version_major": 2,
       "version_minor": 0
      },
      "text/plain": [
       "Uploading artifacts:   0%|          | 0/3 [00:00<?, ?it/s]"
      ]
     },
     "metadata": {},
     "output_type": "display_data"
    },
    {
     "output_type": "display_data",
     "data": {
      "application/vnd.jupyter.widget-view+json": {
       "model_id": "2c5a8d504ae14d62a33aea4b693e2c84",
       "version_major": 2,
       "version_minor": 0
      },
      "text/plain": [
       "Uploading artifacts:   0%|          | 0/9 [00:00<?, ?it/s]"
      ]
     },
     "metadata": {},
     "output_type": "display_data"
    },
    {
     "output_type": "display_data",
     "data": {
      "application/vnd.jupyter.widget-view+json": {
       "model_id": "045c81d14b8b41ffb7c1bf8c463f8668",
       "version_major": 2,
       "version_minor": 0
      },
      "text/plain": [
       "Uploading artifacts:   0%|          | 0/9 [00:00<?, ?it/s]"
      ]
     },
     "metadata": {},
     "output_type": "display_data"
    },
    {
     "output_type": "stream",
     "name": "stdout",
     "output_type": "stream",
     "text": [
      "Confusion Matrix:\n[[85 12]\n [37 66]]\nClassification Report:\n              precision    recall  f1-score   support\n\n           0       0.70      0.88      0.78        97\n           1       0.85      0.64      0.73       103\n\n    accuracy                           0.76       200\n   macro avg       0.77      0.76      0.75       200\nweighted avg       0.77      0.76      0.75       200\n\nAccuracy: 75.50%\nPositive\nNegative\n['Improve food']\nReview 1:  The food was horrible and the service was terrible.\nReview Sentiment: Negative\nSuggestions for Improvement:\nImprove food\nReview 2:  The food was good and the service was nice.\nReview Sentiment: Positive\nSuggestions for Improvement:\nNo improvements needed\n"
     ]
    }
   ],
   "source": [
    "# Importing the libraries\n",
    "import numpy as np\n",
    "import matplotlib.pyplot as plt\n",
    "import pandas as pd\n",
    "import re\n",
    "import nltk\n",
    "from nltk.corpus import stopwords\n",
    "from nltk.stem.porter import PorterStemmer\n",
    "from sklearn.feature_extraction.text import TfidfVectorizer\n",
    "from sklearn.model_selection import train_test_split\n",
    "from sklearn.ensemble import RandomForestClassifier\n",
    "from sklearn.metrics import accuracy_score, classification_report, confusion_matrix\n",
    "from sklearn.model_selection import GridSearchCV\n",
    "\n",
    "# Downloading NLTK data\n",
    "nltk.download('stopwords')\n",
    "nltk.download('vader_lexicon')\n",
    "from nltk.sentiment.vader import SentimentIntensityAnalyzer\n",
    "\n",
    "# Importing the dataset\n",
    "data = pd.read_csv('/dbfs/FileStore/shared_uploads/n118841@icf.com/Restaurant_Reviews.tsv', sep='\\t', quoting=3)\n",
    "\n",
    "# Function to clean text\n",
    "def clean_text(review):\n",
    "    review = re.sub('<.*?>', ' ', review)  # remove HTML tags\n",
    "    review = re.sub('[^a-zA-Z]', ' ', review)  # keep only letters\n",
    "    review = review.lower()  # convert to lowercase\n",
    "    review = review.split()  # split into words\n",
    "    ps = PorterStemmer()  # stemming\n",
    "    review = [ps.stem(word) for word in review if not word in set(stopwords.words('english'))]  # remove stopwords\n",
    "    review = ' '.join(review)  # join words back into a single string\n",
    "    return review\n",
    "\n",
    "# Cleaning all reviews\n",
    "corpus = [clean_text(review) for review in data['Review']]\n",
    "\n",
    "# Using TF-IDF Vectorizer\n",
    "tfidf = TfidfVectorizer(max_features=1500)\n",
    "x = tfidf.fit_transform(corpus).toarray()\n",
    "\n",
    "# Dependent variable\n",
    "y = data.iloc[:, 1].values\n",
    "\n",
    "# Splitting the dataset\n",
    "x_train, x_test, y_train, y_test = train_test_split(x, y, test_size=0.20, random_state=0)\n",
    "\n",
    "# Model: RandomForestClassifier\n",
    "classifier = RandomForestClassifier()\n",
    "\n",
    "# Hyperparameter tuning using GridSearchCV\n",
    "param_grid = {\n",
    "    'n_estimators': [50, 100, 200],\n",
    "    'max_features': ['auto', 'sqrt', 'log2'],\n",
    "    'max_depth': [10, 50, 100, None],\n",
    "    'criterion': ['gini', 'entropy']\n",
    "}\n",
    "\n",
    "grid_search = GridSearchCV(estimator=classifier, param_grid=param_grid, cv=5, n_jobs=-1, verbose=2)\n",
    "grid_search.fit(x_train, y_train)\n",
    "best_classifier = grid_search.best_estimator_\n",
    "\n",
    "# Predicting the Test set results\n",
    "y_pred = best_classifier.predict(x_test)\n",
    "\n",
    "# Confusion Matrix\n",
    "cm = confusion_matrix(y_test, y_pred)\n",
    "print(\"Confusion Matrix:\")\n",
    "print(cm)\n",
    "\n",
    "# Classification Report\n",
    "cr = classification_report(y_test, y_pred)\n",
    "print(\"Classification Report:\")\n",
    "print(cr)\n",
    "\n",
    "# Accuracy Score\n",
    "accuracy = accuracy_score(y_test, y_pred)\n",
    "print(f\"Accuracy: {accuracy * 100:.2f}%\")\n",
    "\n",
    "# Function to predict review sentiment\n",
    "def predict_review(review):\n",
    "    cleaned_review = clean_text(review)\n",
    "    review_vector = tfidf.transform([cleaned_review]).toarray()\n",
    "    prediction = best_classifier.predict(review_vector)\n",
    "    return \"Positive\" if prediction == 1 else \"Negative\"\n",
    "\n",
    "# Example prediction\n",
    "print(predict_review(\"The food was excellent and the service was great!\"))\n",
    "print(predict_review(\"The food was horrible and the service was terrible.\"))\n",
    "\n",
    "# Function to suggest areas of improvement\n",
    "def suggest_improvements(review):\n",
    "    sia = SentimentIntensityAnalyzer()\n",
    "    aspects = {\n",
    "        'food': ['food', 'meal', 'dish', 'taste'],\n",
    "        'service': ['service', 'staff', 'waiter', 'waitress'],\n",
    "        'ambiance': ['ambiance', 'atmosphere', 'environment'],\n",
    "        'price': ['price', 'cost', 'value']\n",
    "    }\n",
    "    suggestions = []\n",
    "    cleaned_review = clean_text(review)\n",
    "    for aspect, keywords in aspects.items():\n",
    "        if any(word in cleaned_review for word in keywords):\n",
    "            sentiment_score = sia.polarity_scores(review)\n",
    "            if sentiment_score['neg'] > sentiment_score['pos']:\n",
    "                suggestions.append(f\"Improve {aspect}\")\n",
    "    return suggestions if suggestions else [\"No specific improvements needed\"]\n",
    "\n",
    "# Example suggestion\n",
    "print(suggest_improvements(\"The food was horrible and the service was terrible.\"))\n",
    "\n",
    "# Full prediction and suggestion function\n",
    "def full_review_analysis(review):\n",
    "    sentiment = predict_review(review)\n",
    "    suggestions = suggest_improvements(review) if sentiment == \"Negative\" else [\"No improvements needed\"]\n",
    "    return sentiment, suggestions\n",
    "\n",
    "# Example full analysis\n",
    "review1 = \"The food was horrible and the service was terrible.\"\n",
    "sentiment, suggestions = full_review_analysis(review1)\n",
    "print(\"Review 1: \", review1)\n",
    "print(f\"Review Sentiment: {sentiment}\")\n",
    "print(\"Suggestions for Improvement:\")\n",
    "for suggestion in suggestions:\n",
    "    print(suggestion)\n",
    "review2 = \"The food was good and the service was nice.\"\n",
    "print(\"Review 2: \",review2)\n",
    "sentiment, suggestions = full_review_analysis(review2)\n",
    "print(f\"Review Sentiment: {sentiment}\")\n",
    "print(\"Suggestions for Improvement:\")\n",
    "for suggestion in suggestions:\n",
    "    print(suggestion)\n"
   ]
  }
 ],
 "metadata": {
  "application/vnd.databricks.v1+notebook": {
   "dashboards": [],
   "environmentMetadata": null,
   "language": "python",
   "notebookMetadata": {
    "pythonIndentUnit": 4
   },
   "notebookName": "nlp",
   "widgets": {}
  }
 },
 "nbformat": 4,
 "nbformat_minor": 0
}
